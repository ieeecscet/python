{
 "cells": [
  {
   "cell_type": "markdown",
   "metadata": {},
   "source": [
    "#  Python Tutorial"
   ]
  },
  {
   "cell_type": "markdown",
   "metadata": {},
   "source": [
    "<h3> Basics</h3>\n",
    "\n"
   ]
  },
  {
   "cell_type": "code",
   "execution_count": 1,
   "metadata": {},
   "outputs": [
    {
     "name": "stdout",
     "output_type": "stream",
     "text": [
      "1\n",
      "hello\n",
      "world\n",
      "4.0\n"
     ]
    }
   ],
   "source": [
    "#Variable Declaration\n",
    "\n",
    "a = 1\n",
    "b =\"hello\"\n",
    "c =\"world\"\n",
    "d = 4.0\n",
    "\n",
    "print(a)\n",
    "print(b)\n",
    "print(c)\n",
    "print(d)"
   ]
  },
  {
   "cell_type": "markdown",
   "metadata": {},
   "source": [
    "### Inputing data "
   ]
  },
  {
   "cell_type": "code",
   "execution_count": 2,
   "metadata": {},
   "outputs": [
    {
     "name": "stdout",
     "output_type": "stream",
     "text": [
      "Enter value3\n",
      "Entered value is : 3\n",
      "Enter valuesample\n",
      "Entered value is :  sample\n"
     ]
    }
   ],
   "source": [
    "val = input(\"Enter value\")\n",
    "print(\"Entered value is :\", val)\n",
    "       \n",
    "val = input(\"Enter value\")\n",
    "print(\"Entered value is : \",val)\n",
    "\n"
   ]
  },
  {
   "cell_type": "code",
   "execution_count": 3,
   "metadata": {},
   "outputs": [
    {
     "name": "stdout",
     "output_type": "stream",
     "text": [
      "16\n",
      "6\n",
      "80\n",
      "10.0\n"
     ]
    }
   ],
   "source": [
    "#Arithmetic Operations\n",
    "\n",
    "sum = 7 + 9\n",
    "difference = 8 - 2\n",
    "prod = 8*10\n",
    "div = 100/10\n",
    "print(sum)\n",
    "print(difference)\n",
    "print(prod)\n",
    "print(div)"
   ]
  },
  {
   "cell_type": "code",
   "execution_count": 21,
   "metadata": {},
   "outputs": [
    {
     "name": "stdout",
     "output_type": "stream",
     "text": [
      "<class 'int'> 5\n",
      "<class 'str'> 1\n"
     ]
    }
   ],
   "source": [
    "#Type Casting\n",
    "\n",
    "A = int(5.78)\n",
    "B = str(1)\n",
    "\n",
    "print(type(A),A)\n",
    "print(type(B),B)"
   ]
  },
  {
   "cell_type": "markdown",
   "metadata": {},
   "source": [
    "<h3>Strings</h3>"
   ]
  },
  {
   "cell_type": "code",
   "execution_count": 5,
   "metadata": {},
   "outputs": [
    {
     "name": "stdout",
     "output_type": "stream",
     "text": [
      "b = llo\n",
      "c = e\n",
      "d = Hello\n",
      "e = orld!!\n",
      "f = Hello Wor\n",
      "g = d!!\n",
      "h = Hello World!!\n"
     ]
    }
   ],
   "source": [
    "#Substrings / String Slicing\n",
    "a=\"Hello World!!\"\n",
    "\n",
    "b = a[2:5]\n",
    "print(\"b =\",b)\n",
    "c = a[1]\n",
    "print(\"c =\",c)\n",
    "d= a[:5]\n",
    "print(\"d =\",d)\n",
    "e = a[7:]\n",
    "print(\"e =\",e)\n",
    "f = a[:-4]\n",
    "print (\"f =\",f)\n",
    "g = a[-3:]\n",
    "print(\"g =\",g)\n",
    "h = a[:]\n",
    "print(\"h =\",h)"
   ]
  },
  {
   "cell_type": "code",
   "execution_count": 6,
   "metadata": {},
   "outputs": [
    {
     "name": "stdout",
     "output_type": "stream",
     "text": [
      "13\n",
      "Hello World!!\n"
     ]
    }
   ],
   "source": [
    "#String Functions\n",
    "print(len(a))\n",
    "\n",
    "print(a.strip())\n"
   ]
  },
  {
   "cell_type": "code",
   "execution_count": 7,
   "metadata": {},
   "outputs": [
    {
     "name": "stdout",
     "output_type": "stream",
     "text": [
      "HelloWorld!!!\n"
     ]
    }
   ],
   "source": [
    "A= \"Hello\"\n",
    "B= \"World!!!\"\n",
    "print(A+B)"
   ]
  },
  {
   "cell_type": "markdown",
   "metadata": {},
   "source": [
    "## Operators\n"
   ]
  },
  {
   "cell_type": "markdown",
   "metadata": {},
   "source": [
    "### Logical"
   ]
  },
  {
   "cell_type": "code",
   "execution_count": 8,
   "metadata": {},
   "outputs": [
    {
     "name": "stdout",
     "output_type": "stream",
     "text": [
      "True\n",
      "True\n",
      "False\n"
     ]
    }
   ],
   "source": [
    "#and \n",
    "print(5 < 6 and 8 > 6)\n",
    "\n",
    "#or\n",
    "print(8>9 or 10 < 13)\n",
    "\n",
    "#not\n",
    "print(not(5 < 6 and 8 > 6))"
   ]
  },
  {
   "cell_type": "markdown",
   "metadata": {},
   "source": [
    "### Bitwise"
   ]
  },
  {
   "cell_type": "code",
   "execution_count": 9,
   "metadata": {},
   "outputs": [
    {
     "name": "stdout",
     "output_type": "stream",
     "text": [
      "Complement of 1 is -2\n",
      "Bitwise and of 10 and 11 is 10\n",
      "Bitwise or of 10 and 11 is 11\n",
      "XOR of 12 and 13 is 1\n",
      "Left Shift (2 bits) of 32 is 128\n",
      "Right Shift (2 bits) of 128 is 32\n"
     ]
    }
   ],
   "source": [
    "#complement\n",
    "print(\"Complement of 1 is\",~1)\n",
    "\n",
    "#bitwise and\n",
    "print(\"Bitwise and of 10 and 11 is\",10 & 11)\n",
    "\n",
    "#bitwise or\n",
    "print(\"Bitwise or of 10 and 11 is\",10 | 11)\n",
    "\n",
    "#XOR\n",
    "print(\"XOR of 12 and 13 is\",12^13)\n",
    "\n",
    "#left shift\n",
    "print(\"Left Shift (2 bits) of 32 is\",  32 << 2)\n",
    "\n",
    "#right shift\n",
    "print(\"Right Shift (2 bits) of 128 is\",128 >> 2)"
   ]
  },
  {
   "cell_type": "markdown",
   "metadata": {},
   "source": [
    "## Conditionals"
   ]
  },
  {
   "cell_type": "markdown",
   "metadata": {},
   "source": [
    "### if - else"
   ]
  },
  {
   "cell_type": "code",
   "execution_count": 10,
   "metadata": {},
   "outputs": [
    {
     "name": "stdout",
     "output_type": "stream",
     "text": [
      "B is greater than A\n"
     ]
    }
   ],
   "source": [
    "A,B = 3,6\n",
    "\n",
    "if(A>B):\n",
    "    print(\" A is greater than B\")\n",
    "elif (A==B) :\n",
    "    print(\" A equals B\")\n",
    "else :\n",
    "    print( \"B is greater than A\")\n"
   ]
  },
  {
   "cell_type": "markdown",
   "metadata": {},
   "source": [
    "## Loops\n"
   ]
  },
  {
   "cell_type": "markdown",
   "metadata": {},
   "source": [
    "### for loop\n"
   ]
  },
  {
   "cell_type": "code",
   "execution_count": 11,
   "metadata": {},
   "outputs": [
    {
     "name": "stdout",
     "output_type": "stream",
     "text": [
      "2\n",
      "4\n",
      "6\n",
      "8\n",
      "\n",
      " Looping through Strings\n",
      " \n",
      "H\n",
      "a\n",
      "v\n",
      "e\n",
      " \n",
      "A\n",
      " \n",
      "N\n",
      "i\n",
      "c\n",
      "e\n",
      " \n",
      "D\n",
      "a\n",
      "y\n",
      "!\n",
      "!\n",
      "\n",
      " Looping through lists\n",
      " \n",
      "cat\n",
      "dog\n",
      "cow\n"
     ]
    }
   ],
   "source": [
    "for x in range(2,10,2):\n",
    "    print(x)\n",
    "    \n",
    "# range syntax --> range(start, stop, step) \n",
    "# start\tOptional. An integer number specifying at which position to start. Default is 0\n",
    "# stop\tOptional. An integer number specifying at which position to endt.\n",
    "# step\tOptional. An integer number specifying the incrementation. Default is 1\n",
    "\n",
    "# looping through a string \n",
    "print(\"\\n Looping through Strings\\n \")\n",
    "string = \"Have A Nice Day!!\"\n",
    "for x in string:\n",
    "    print(x)\n",
    "    \n",
    "#looping through lists\n",
    "print(\"\\n Looping through lists\\n \")\n",
    "animals = [\"cat\",\"dog\",\"cow\"]\n",
    "for animal in animals:\n",
    "    print(animal)\n",
    "    "
   ]
  },
  {
   "cell_type": "markdown",
   "metadata": {},
   "source": [
    "### while loop"
   ]
  },
  {
   "cell_type": "code",
   "execution_count": 12,
   "metadata": {},
   "outputs": [
    {
     "name": "stdout",
     "output_type": "stream",
     "text": [
      "0\n",
      "1\n",
      "2\n",
      "3\n",
      "4\n",
      "5\n"
     ]
    }
   ],
   "source": [
    "i = 0\n",
    "while i < 6:\n",
    "    print(i)\n",
    "    i += 1"
   ]
  },
  {
   "cell_type": "markdown",
   "metadata": {},
   "source": [
    "## Data structures "
   ]
  },
  {
   "cell_type": "markdown",
   "metadata": {},
   "source": [
    "### Lists"
   ]
  },
  {
   "cell_type": "code",
   "execution_count": 13,
   "metadata": {},
   "outputs": [
    {
     "name": "stdout",
     "output_type": "stream",
     "text": [
      "['Apple', 'Orange', 'Grapes', 'Mango', 'Banana', 'Orange']\n",
      "Grapes\n",
      "After changing : Guava\n",
      "Item found\n",
      "List after appending:  ['Apple', 'Orange', 'Guava', 'Mango', 'Banana', 'Orange', 'Grapes']\n"
     ]
    }
   ],
   "source": [
    "# lists ---> Ordered, changeable & allows duplicate members\n",
    "\n",
    "fruits = [\"Apple\",\"Orange\",\"Grapes\",\"Mango\",\"Banana\",\"Orange\"]\n",
    "print(fruits)\n",
    "\n",
    "print(fruits[2])\n",
    "\n",
    "fruits[2]=\"Guava\"\n",
    "print(\"After changing :\", fruits[2])\n",
    "\n",
    "#checking if an item exists in the list\n",
    "\n",
    "if(\"Apple\" in fruits):\n",
    "    print(\"Item found\")\n",
    "else : \n",
    "    print (\"Not found\")\n",
    "    \n",
    "#Appending \n",
    "fruits.append(\"Grapes\")\n",
    "print(\"List after appending: \",fruits)"
   ]
  },
  {
   "cell_type": "markdown",
   "metadata": {},
   "source": [
    "### Tuples\n"
   ]
  },
  {
   "cell_type": "code",
   "execution_count": 14,
   "metadata": {},
   "outputs": [
    {
     "name": "stdout",
     "output_type": "stream",
     "text": [
      "('Banana', 'Apple', 'Mango')\n"
     ]
    }
   ],
   "source": [
    "#tuples ---> Ordered , Unchangeable\n",
    "\n",
    "fruitstuple = (\"Banana\",\"Apple\",\"Mango\")\n",
    "print(fruitstuple)"
   ]
  },
  {
   "cell_type": "markdown",
   "metadata": {},
   "source": [
    "### Sets"
   ]
  },
  {
   "cell_type": "code",
   "execution_count": 15,
   "metadata": {},
   "outputs": [
    {
     "name": "stdout",
     "output_type": "stream",
     "text": [
      "{'KTYM', 'EKM', 'QLN', 'TVC'}\n",
      "KTYM\n",
      "EKM\n",
      "QLN\n",
      "TVC\n",
      "After addition :  {'ALPY', 'TVC', 'KTYM', 'EKM', 'QLN'}\n"
     ]
    }
   ],
   "source": [
    "#sets --> Unordered,unindexed \n",
    "\n",
    "newset = {\"TVC\",\"KTYM\",\"EKM\",\"QLN\"}\n",
    "print(newset)\n",
    "\n",
    "#accessing using for loop\n",
    "for place in newset:\n",
    "    print(place)\n",
    "    \n",
    "# you can't change values in the set once they're added, but you can add new elements to the \n",
    "newset.add(\"ALPY\")\n",
    "print(\"After addition : \",newset)\n",
    "\n",
    "# Supports other mathematical operations we perform in sets like intersection,union,symmetric difference etc."
   ]
  },
  {
   "cell_type": "markdown",
   "metadata": {},
   "source": [
    "### Dictionary"
   ]
  },
  {
   "cell_type": "code",
   "execution_count": 16,
   "metadata": {},
   "outputs": [
    {
     "name": "stdout",
     "output_type": "stream",
     "text": [
      "{'name': ' Sam ', 'dept': 'CS', 'course': 'UG'}\n",
      "Name :   Sam \n"
     ]
    }
   ],
   "source": [
    "#dictionary --> unordered, changeable and indexed\n",
    "\n",
    "details = {\n",
    "    \"name\": \" Sam \",\n",
    "    \"dept\": \"CS\",\n",
    "    \"course\" : \"UG\"\n",
    "    \n",
    "}\n",
    "\n",
    "print (details)\n",
    "\n",
    "print (\"Name : \",details[\"name\"])"
   ]
  },
  {
   "cell_type": "markdown",
   "metadata": {},
   "source": [
    "## Functions"
   ]
  },
  {
   "cell_type": "code",
   "execution_count": 17,
   "metadata": {},
   "outputs": [
    {
     "name": "stdout",
     "output_type": "stream",
     "text": [
      "Square of  3 is  9\n",
      "Square of  5 is  25\n"
     ]
    }
   ],
   "source": [
    "def sqr(n=5):\n",
    "    print(\"Square of \",n,\"is \",n*n)\n",
    "\n",
    "sqr(3)\n",
    "\n",
    "sqr()"
   ]
  },
  {
   "cell_type": "code",
   "execution_count": 18,
   "metadata": {},
   "outputs": [
    {
     "name": "stdout",
     "output_type": "stream",
     "text": [
      "6\n"
     ]
    }
   ],
   "source": [
    "##Recursion : a function calling itself \n",
    "\n",
    "def fact(n):\n",
    "    if n==1 :\n",
    "        return 1\n",
    "    else :\n",
    "        return n*fact(n-1)\n",
    "    \n",
    "print(fact(3))"
   ]
  },
  {
   "cell_type": "markdown",
   "metadata": {},
   "source": [
    "### Lambda\n"
   ]
  },
  {
   "cell_type": "code",
   "execution_count": 19,
   "metadata": {},
   "outputs": [
    {
     "name": "stdout",
     "output_type": "stream",
     "text": [
      "Square :  25\n"
     ]
    }
   ],
   "source": [
    "## a function which can take in any number of arguments , but only one expression\n",
    "\n",
    "square = lambda x : x*x\n",
    "\n",
    "print(\"Square : \",square(5))\n",
    "\n"
   ]
  },
  {
   "cell_type": "markdown",
   "metadata": {},
   "source": [
    "### Class and Objects"
   ]
  },
  {
   "cell_type": "code",
   "execution_count": 22,
   "metadata": {},
   "outputs": [
    {
     "name": "stdout",
     "output_type": "stream",
     "text": [
      "Hello !! My name is  Sam\n",
      "I'm 15  years old\n"
     ]
    }
   ],
   "source": [
    "class People :\n",
    "    def __init__(self,name,age,branch):\n",
    "        self.name=name\n",
    "        self.age=age\n",
    "        self.branch=branch\n",
    "        \n",
    "    def intro(self):\n",
    "        print(\"Hello !! My name is \",self.name)\n",
    "        print(\"I'm\",self.age,\" years old\")\n",
    "        \n",
    "        \n",
    "sam =People(\"Sam\",15,\"CS\")\n",
    "sam.intro()\n",
    "            \n",
    "    "
   ]
  },
  {
   "cell_type": "markdown",
   "metadata": {},
   "source": [
    "## Modules\n"
   ]
  },
  {
   "cell_type": "code",
   "execution_count": 27,
   "metadata": {},
   "outputs": [
    {
     "name": "stdout",
     "output_type": "stream",
     "text": [
      "6.0\n"
     ]
    }
   ],
   "source": [
    "import math\n",
    "\n",
    "print(math.sqrt(36))"
   ]
  },
  {
   "cell_type": "code",
   "execution_count": null,
   "metadata": {},
   "outputs": [],
   "source": []
  }
 ],
 "metadata": {
  "kernelspec": {
   "display_name": "Python 3",
   "language": "python",
   "name": "python3"
  },
  "language_info": {
   "codemirror_mode": {
    "name": "ipython",
    "version": 3
   },
   "file_extension": ".py",
   "mimetype": "text/x-python",
   "name": "python",
   "nbconvert_exporter": "python",
   "pygments_lexer": "ipython3",
   "version": "3.7.0"
  }
 },
 "nbformat": 4,
 "nbformat_minor": 2
}
